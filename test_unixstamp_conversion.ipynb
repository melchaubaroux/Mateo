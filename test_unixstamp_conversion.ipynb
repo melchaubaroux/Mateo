{
 "cells": [
  {
   "cell_type": "code",
   "execution_count": null,
   "metadata": {},
   "outputs": [],
   "source": [
    "\n",
    "def calibrage (timestamp) : \n",
    "\n",
    "    \"\"\"\n",
    "        sert a convertir un timestamp en celle de minuit de la mme journée \n",
    "        afin de pouvoir trouver les correspondance dans la base de donnée\n",
    "    \n",
    "    \"\"\"\n",
    "\n",
    "    import datetime\n",
    "\n",
    "    # timestamp to datetime \n",
    "    date = datetime.datetime.fromtimestamp(date)\n",
    "\n",
    "    # datetime to string\n",
    "    date_string =  date.strftime('%Y-%m-%d %H:%M:%S')\n",
    "    \n",
    "    # date alteration \n",
    "    formated_date=date_string[:-8]+\"00:00:00\"\n",
    "\n",
    "    # string to datetime \n",
    "    date = datetime.datetime.strptime(formated_date, '%Y-%m-%d %H:%M:%S')\n",
    "\n",
    "    # datetime to stamp \n",
    "    return  int(datetime.datetime.timestamp(date))\n",
    "\n",
    "\n",
    "    \n"
   ]
  },
  {
   "cell_type": "code",
   "execution_count": null,
   "metadata": {},
   "outputs": [],
   "source": [
    "1713297074"
   ]
  },
  {
   "cell_type": "code",
   "execution_count": 37,
   "metadata": {},
   "outputs": [
    {
     "name": "stdout",
     "output_type": "stream",
     "text": [
      "Date formatée: 2024-04-17 13:25:08\n",
      "2024-04-17 02:00:00\n"
     ]
    }
   ],
   "source": [
    "import datetime\n",
    "\n",
    "# Date Unix à convertir\n",
    "timestamp =1713353108# Exemple de timestamp Unix\n",
    "\n",
    "# Convertir le timestamp Unix en objet datetime\n",
    "date = datetime.datetime.fromtimestamp(timestamp)\n",
    "\n",
    "formated_date =   date.strftime('%Y-%m-%d %H:%M:%S')\n",
    "\n",
    "# Afficher la date dans un format spécifique\n",
    "print(\"Date formatée:\", formated_date)\n",
    "\n",
    "minuit=formated_date[:-8]+\"02:00:00\"\n",
    "\n",
    "print(minuit)\n"
   ]
  },
  {
   "cell_type": "code",
   "execution_count": 6,
   "metadata": {},
   "outputs": [
    {
     "name": "stdout",
     "output_type": "stream",
     "text": [
      "Timestamp Unix: 1618524000\n"
     ]
    }
   ],
   "source": [
    "\n",
    "\n",
    "# Date à convertir\n",
    "date_string = '2021-04-16 00:00:00'  # Exemple de date au format YYYY-MM-DD HH:MM:SS\n",
    "\n",
    "# Convertir la chaîne de caractères en objet datetime\n",
    "date = datetime.datetime.strptime(date_string, '%Y-%m-%d %H:%M:%S')\n",
    "\n",
    "# Convertir la date en timestamp Unix\n",
    "timestamp = datetime.datetime.timestamp(date)\n",
    "\n",
    "# Afficher le timestamp Unix\n",
    "print(\"Timestamp Unix:\", int(timestamp))"
   ]
  },
  {
   "cell_type": "code",
   "execution_count": null,
   "metadata": {},
   "outputs": [],
   "source": []
  }
 ],
 "metadata": {
  "kernelspec": {
   "display_name": "venv",
   "language": "python",
   "name": "python3"
  },
  "language_info": {
   "codemirror_mode": {
    "name": "ipython",
    "version": 3
   },
   "file_extension": ".py",
   "mimetype": "text/x-python",
   "name": "python",
   "nbconvert_exporter": "python",
   "pygments_lexer": "ipython3",
   "version": "3.11.5"
  }
 },
 "nbformat": 4,
 "nbformat_minor": 2
}
